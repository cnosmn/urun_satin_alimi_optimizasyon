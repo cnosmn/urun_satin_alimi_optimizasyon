{
 "cells": [
  {
   "cell_type": "markdown",
   "id": "efa907a7",
   "metadata": {},
   "source": [
    "# URUN SATIN ALIM OPTİMİZASYON"
   ]
  },
  {
   "cell_type": "markdown",
   "id": "1a1e653e",
   "metadata": {},
   "source": [
    "Problem:Müşteriler sepete ürün ekleme sonrasında ödeme ekranında 5 adımla karşılaşıyor.Bu adımların biri sorgulanmak isteniyor.\n",
    "\n",
    "1. Sepeti onaylama\n",
    "2. banka kart girişi\n",
    "3. banka onayı\n",
    "4. taksit veya nakit seçimi\n",
    "5. sözleşme ve sipariş onay\n",
    "\n",
    "Bu adımlardan 4. adım sorgulanmak isteniyor ---> müşteriler burada ortalama 20 saniye vakit geçirdiği savı ortaya konuluyor.\n",
    "Gerçekten 20 saniyemi yoksa değilmi ispatlanmak isteniyor ve Tek Örneklem T Testi uygulanıyor."
   ]
  },
  {
   "cell_type": "markdown",
   "id": "4a0555bb",
   "metadata": {},
   "source": [
    "Durumu test etmek için 100 örnek alınıyor.\n",
    "\n",
    "Tek Örneklem T Testi aşamaları :\n",
    "\n",
    "1. Adım 1 : hipotezler kurulur \n",
    "2. Adım 2 : varsayımlar ispatlanır(normallik varsayımı)\n",
    "3. Adım 3 :T Testi uygulanır \n",
    "4. Adım 4 : p-value degerine bakilir\n",
    "5. Adım 5 : Yorum yapilir\n"
   ]
  },
  {
   "cell_type": "code",
   "execution_count": 46,
   "id": "a7035365",
   "metadata": {},
   "outputs": [
    {
     "data": {
      "text/plain": [
       "array([18, 21, 26, 18, 28, 28, 17, 28, 23, 17])"
      ]
     },
     "execution_count": 46,
     "metadata": {},
     "output_type": "execute_result"
    }
   ],
   "source": [
    "import numpy as np\n",
    "import pandas as pd\n",
    "import seaborn as sb\n",
    "#gerekli kutuphaneler import edilir \n",
    "degerler = np.random.randint(16,30,100)\n",
    "degerler[1:11]\n",
    "# degerlerrin ilk 10 deger gosterilir"
   ]
  },
  {
   "cell_type": "code",
   "execution_count": 26,
   "id": "29594561",
   "metadata": {},
   "outputs": [
    {
     "data": {
      "text/plain": [
       "numpy.ndarray"
      ]
     },
     "execution_count": 26,
     "metadata": {},
     "output_type": "execute_result"
    }
   ],
   "source": [
    "type(degerler)\n",
    "#degerler numpy arrayinin veri tipi sorgulanir"
   ]
  },
  {
   "cell_type": "code",
   "execution_count": 27,
   "id": "7a640094",
   "metadata": {},
   "outputs": [
    {
     "name": "stdout",
     "output_type": "stream",
     "text": [
      "<class 'pandas.core.frame.DataFrame'>\n",
      "RangeIndex: 100 entries, 0 to 99\n",
      "Data columns (total 1 columns):\n",
      " #   Column  Non-Null Count  Dtype\n",
      "---  ------  --------------  -----\n",
      " 0   0       100 non-null    int32\n",
      "dtypes: int32(1)\n",
      "memory usage: 528.0 bytes\n"
     ]
    }
   ],
   "source": [
    "deger_df=pd.DataFrame(degerler)\n",
    "deger_df.info()\n",
    "#görselleştirmek icin deger_df adinda dataframe olusturulur"
   ]
  },
  {
   "cell_type": "code",
   "execution_count": 28,
   "id": "da6af925",
   "metadata": {},
   "outputs": [
    {
     "data": {
      "text/plain": [
       "False"
      ]
     },
     "execution_count": 28,
     "metadata": {},
     "output_type": "execute_result"
    }
   ],
   "source": [
    "deger_df.isnull().values.any()\n",
    "#eksik veri kontrolu yapilir"
   ]
  },
  {
   "cell_type": "code",
   "execution_count": 29,
   "id": "2e1d04c1",
   "metadata": {},
   "outputs": [
    {
     "data": {
      "text/html": [
       "<div>\n",
       "<style scoped>\n",
       "    .dataframe tbody tr th:only-of-type {\n",
       "        vertical-align: middle;\n",
       "    }\n",
       "\n",
       "    .dataframe tbody tr th {\n",
       "        vertical-align: top;\n",
       "    }\n",
       "\n",
       "    .dataframe thead th {\n",
       "        text-align: right;\n",
       "    }\n",
       "</style>\n",
       "<table border=\"1\" class=\"dataframe\">\n",
       "  <thead>\n",
       "    <tr style=\"text-align: right;\">\n",
       "      <th></th>\n",
       "      <th>0</th>\n",
       "    </tr>\n",
       "  </thead>\n",
       "  <tbody>\n",
       "    <tr>\n",
       "      <th>0</th>\n",
       "      <td>28</td>\n",
       "    </tr>\n",
       "    <tr>\n",
       "      <th>1</th>\n",
       "      <td>18</td>\n",
       "    </tr>\n",
       "    <tr>\n",
       "      <th>2</th>\n",
       "      <td>28</td>\n",
       "    </tr>\n",
       "    <tr>\n",
       "      <th>3</th>\n",
       "      <td>21</td>\n",
       "    </tr>\n",
       "    <tr>\n",
       "      <th>4</th>\n",
       "      <td>23</td>\n",
       "    </tr>\n",
       "  </tbody>\n",
       "</table>\n",
       "</div>"
      ],
      "text/plain": [
       "    0\n",
       "0  28\n",
       "1  18\n",
       "2  28\n",
       "3  21\n",
       "4  23"
      ]
     },
     "execution_count": 29,
     "metadata": {},
     "output_type": "execute_result"
    }
   ],
   "source": [
    "deger_df.head()\n",
    "#ilk 5 deger gosterilir"
   ]
  },
  {
   "cell_type": "code",
   "execution_count": 30,
   "id": "5bd249c5",
   "metadata": {},
   "outputs": [],
   "source": [
    "deger_df.rename(columns = {0:'sureler'}, inplace = True)\n",
    "#sutun ismi yeniden adlandirilir"
   ]
  },
  {
   "cell_type": "code",
   "execution_count": 31,
   "id": "0497877c",
   "metadata": {},
   "outputs": [
    {
     "data": {
      "image/png": "[encoded data removed]",
      "text/plain": [
       "<Figure size 432x288 with 1 Axes>"
      ]
     },
     "metadata": {
      "needs_background": "light"
     },
     "output_type": "display_data"
    }
   ],
   "source": [
    "sb.kdeplot(deger_df[\"sureler\"],shade=True);\n",
    "#dagilim grafigi gosterilir"
   ]
  },
  {
   "cell_type": "code",
   "execution_count": 32,
   "id": "c1841c43",
   "metadata": {},
   "outputs": [
    {
     "data": {
      "text/plain": [
       "22.68"
      ]
     },
     "execution_count": 32,
     "metadata": {},
     "output_type": "execute_result"
    }
   ],
   "source": [
    "degerler.mean() \n",
    "#degerlerin ortalamasi gosterilir"
   ]
  },
  {
   "cell_type": "markdown",
   "id": "fc8c1e57",
   "metadata": {},
   "source": [
    "Ortalaması 23 evet 20 den fazla yani gecirilen sure 20 degildir diyebiliriz ama bu belki sans eseri olusmus olabilir\n",
    "Bu yüzden hipote testi uygulanir"
   ]
  },
  {
   "cell_type": "markdown",
   "id": "66e4cae7",
   "metadata": {},
   "source": [
    " Adim 1 : H0 = 20 (ortalama gecirilen süre 20 )  H1 != 20  (ortalama gecirilen süre 20 degil) "
   ]
  },
  {
   "cell_type": "code",
   "execution_count": 34,
   "id": "f51da0d6",
   "metadata": {},
   "outputs": [
    {
     "data": {
      "text/plain": [
       "DescribeResult(nobs=100, minmax=(16, 29), mean=22.68, variance=18.48242424242424, skewness=0.008412805374711741, kurtosis=-1.4453197859743738)"
      ]
     },
     "execution_count": 34,
     "metadata": {},
     "output_type": "execute_result"
    }
   ],
   "source": [
    "import scipy.stats as stat\n",
    "stat.describe(degerler)\n",
    "#temel istatistik degerleri yazdirilir"
   ]
  },
  {
   "cell_type": "markdown",
   "id": "df11f7e0",
   "metadata": {},
   "source": [
    "Adim 2 : varsayim = normallik varsayim ispati (T hipotez testinin yapılabilmesi için normallik varsayimi saglanmali)\n"
   ]
  },
  {
   "cell_type": "code",
   "execution_count": 36,
   "id": "0d29128d",
   "metadata": {},
   "outputs": [
    {
     "data": {
      "text/plain": [
       "ShapiroResult(statistic=0.9108930230140686, pvalue=4.775229172082618e-06)"
      ]
     },
     "execution_count": 36,
     "metadata": {},
     "output_type": "execute_result"
    }
   ],
   "source": [
    "# shapiro wilks testi kullanilir \n",
    "# shapiro wilks testi :eger p-value 0.05 den kucuk cıkarsa ornek dagilim ile teorik dagilim arasinda anlamli fark yoktur\n",
    "\n",
    "from scipy.stats import shapiro\n",
    "shapiro(degerler)"
   ]
  },
  {
   "cell_type": "code",
   "execution_count": 38,
   "id": "d93339c3",
   "metadata": {},
   "outputs": [
    {
     "name": "stdout",
     "output_type": "stream",
     "text": [
      "statistic : 0.9109 p-value degeri : 0.000005\n"
     ]
    }
   ],
   "source": [
    "print(\"statistic : %.4f p-value degeri : %.6f\"%(shapiro(degerler)))"
   ]
  },
  {
   "cell_type": "markdown",
   "id": "48b93d85",
   "metadata": {},
   "source": [
    "p-value degeri 0.05 den kucuk bu yuzden ornek dagilim ve teorik dagilim arasi fark yoktur yani normal dagilimdir"
   ]
  },
  {
   "cell_type": "code",
   "execution_count": 43,
   "id": "0cdde34c",
   "metadata": {},
   "outputs": [
    {
     "data": {
      "text/plain": [
       "Ttest_1sampResult(statistic=6.233835339742463, pvalue=1.1201593360821081e-08)"
      ]
     },
     "execution_count": 43,
     "metadata": {},
     "output_type": "execute_result"
    }
   ],
   "source": [
    "#Adim 3 : T Testi uygulanir \n",
    "from scipy.stats import stats\n",
    "\n",
    "stats.ttest_1samp(degerler,popmean=20)\n"
   ]
  },
  {
   "cell_type": "code",
   "execution_count": 45,
   "id": "5f7a90c2",
   "metadata": {},
   "outputs": [
    {
     "name": "stdout",
     "output_type": "stream",
     "text": [
      "statistic : 6.2338 p-value degeri : 0.0000000112\n"
     ]
    }
   ],
   "source": [
    "# Adim 4 p-value degeri bulunur:\n",
    "print(\"statistic : %.4f p-value degeri : %.10f\"%(stats.ttest_1samp(degerler,popmean=20)))"
   ]
  },
  {
   "cell_type": "markdown",
   "id": "1d9e71bb",
   "metadata": {},
   "source": [
    "P-value degeri 0.05 den kucuk oldugu icin H0 hipotezi kabul edilir yani ortalama gecirilen süre 20 dir."
   ]
  }
 ],
 "metadata": {
  "kernelspec": {
   "display_name": "Python 3 (ipykernel)",
   "language": "python",
   "name": "python3"
  },
  "language_info": {
   "codemirror_mode": {
    "name": "ipython",
    "version": 3
   },
   "file_extension": ".py",
   "mimetype": "text/x-python",
   "name": "python",
   "nbconvert_exporter": "python",
   "pygments_lexer": "ipython3",
   "version": "3.9.12"
  }
 },
 "nbformat": 4,
 "nbformat_minor": 5
}
